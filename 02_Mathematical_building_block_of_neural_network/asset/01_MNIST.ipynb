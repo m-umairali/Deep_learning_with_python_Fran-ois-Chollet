{
 "cells": [
  {
   "attachments": {},
   "cell_type": "markdown",
   "metadata": {},
   "source": [
    "# Chapter 2, Basic Building Blocks of Neural Network (Math Intuition)\n",
    "\n",
    "It is necessary to learn mathematics in order to be a deep learning engineer. Without math, it will become hard to identify and resolve the issues, you will face in the deep learning architecture. \n",
    "So here we gonna start with the hello world of deep learning which is “MNIST”. MNIST (National Institute  of standards and Technology) has developed this dataset in 1980s. This dataset consist of handwritten 60,000 training and 10,000 test images categorized through 0 to 9. Here we will classify grayscale images using Keras. This comes along with the installation of Keras. \n",
    "Note: In machine learning a category in a classification problem is called a class.Data points called samples"
   ]
  },
  {
   "cell_type": "code",
   "execution_count": 2,
   "metadata": {},
   "outputs": [],
   "source": [
    "from tensorflow.keras.datasets import mnist\n",
    "(train_images, train_labels), (test_images, test_labels) = mnist.load_data()"
   ]
  },
  {
   "attachments": {},
   "cell_type": "markdown",
   "metadata": {},
   "source": [
    "The code imports the MNIST dataset from the TensorFlow Keras library, which is a high-level API for building and training machine learning models. Specifically, the code imports the `mnist` module from the `datasets` subpackage of the `tensorflow.keras` library.\n",
    "\n",
    "The second line of the code uses the `load_data()` function from the MNIST module to load the dataset into two sets of variables: `train_images` and `train_labels` for the training data, and \"test_images\" and \"test_labels\" for the test data.\n",
    "\n",
    "The training data consists of 60,000 images and their corresponding labels, while the test data consists of 10,000 images and their corresponding labels. The images are represented as NumPy arrays with shape (28, 28) ranging from 0 to 9, while the labels are represented as NumPy arrays of integers."
   ]
  },
  {
   "cell_type": "code",
   "execution_count": 3,
   "metadata": {},
   "outputs": [
    {
     "data": {
      "text/plain": [
       "(60000, 28, 28)"
      ]
     },
     "execution_count": 3,
     "metadata": {},
     "output_type": "execute_result"
    }
   ],
   "source": [
    "# training data\n",
    "train_images.shape"
   ]
  },
  {
   "cell_type": "code",
   "execution_count": 4,
   "metadata": {},
   "outputs": [
    {
     "name": "stdout",
     "output_type": "stream",
     "text": [
      "[[[0 0 0 ... 0 0 0]\n",
      "  [0 0 0 ... 0 0 0]\n",
      "  [0 0 0 ... 0 0 0]\n",
      "  ...\n",
      "  [0 0 0 ... 0 0 0]\n",
      "  [0 0 0 ... 0 0 0]\n",
      "  [0 0 0 ... 0 0 0]]\n",
      "\n",
      " [[0 0 0 ... 0 0 0]\n",
      "  [0 0 0 ... 0 0 0]\n",
      "  [0 0 0 ... 0 0 0]\n",
      "  ...\n",
      "  [0 0 0 ... 0 0 0]\n",
      "  [0 0 0 ... 0 0 0]\n",
      "  [0 0 0 ... 0 0 0]]\n",
      "\n",
      " [[0 0 0 ... 0 0 0]\n",
      "  [0 0 0 ... 0 0 0]\n",
      "  [0 0 0 ... 0 0 0]\n",
      "  ...\n",
      "  [0 0 0 ... 0 0 0]\n",
      "  [0 0 0 ... 0 0 0]\n",
      "  [0 0 0 ... 0 0 0]]\n",
      "\n",
      " ...\n",
      "\n",
      " [[0 0 0 ... 0 0 0]\n",
      "  [0 0 0 ... 0 0 0]\n",
      "  [0 0 0 ... 0 0 0]\n",
      "  ...\n",
      "  [0 0 0 ... 0 0 0]\n",
      "  [0 0 0 ... 0 0 0]\n",
      "  [0 0 0 ... 0 0 0]]\n",
      "\n",
      " [[0 0 0 ... 0 0 0]\n",
      "  [0 0 0 ... 0 0 0]\n",
      "  [0 0 0 ... 0 0 0]\n",
      "  ...\n",
      "  [0 0 0 ... 0 0 0]\n",
      "  [0 0 0 ... 0 0 0]\n",
      "  [0 0 0 ... 0 0 0]]\n",
      "\n",
      " [[0 0 0 ... 0 0 0]\n",
      "  [0 0 0 ... 0 0 0]\n",
      "  [0 0 0 ... 0 0 0]\n",
      "  ...\n",
      "  [0 0 0 ... 0 0 0]\n",
      "  [0 0 0 ... 0 0 0]\n",
      "  [0 0 0 ... 0 0 0]]]\n"
     ]
    }
   ],
   "source": [
    "print(train_images)"
   ]
  },
  {
   "cell_type": "code",
   "execution_count": 5,
   "metadata": {},
   "outputs": [
    {
     "data": {
      "text/plain": [
       "60000"
      ]
     },
     "execution_count": 5,
     "metadata": {},
     "output_type": "execute_result"
    }
   ],
   "source": [
    "len(train_labels)"
   ]
  },
  {
   "cell_type": "code",
   "execution_count": 6,
   "metadata": {},
   "outputs": [
    {
     "data": {
      "text/plain": [
       "(60000,)"
      ]
     },
     "execution_count": 6,
     "metadata": {},
     "output_type": "execute_result"
    }
   ],
   "source": [
    "train_labels.shape"
   ]
  },
  {
   "cell_type": "code",
   "execution_count": 7,
   "metadata": {},
   "outputs": [
    {
     "name": "stdout",
     "output_type": "stream",
     "text": [
      "[5 0 4 ... 5 6 8]\n"
     ]
    }
   ],
   "source": [
    "print(train_labels)"
   ]
  },
  {
   "cell_type": "code",
   "execution_count": 8,
   "metadata": {},
   "outputs": [
    {
     "data": {
      "text/plain": [
       "(10000, 28, 28)"
      ]
     },
     "execution_count": 8,
     "metadata": {},
     "output_type": "execute_result"
    }
   ],
   "source": [
    "# test data\n",
    "test_images.shape"
   ]
  },
  {
   "cell_type": "code",
   "execution_count": 9,
   "metadata": {},
   "outputs": [
    {
     "data": {
      "text/plain": [
       "(10000,)"
      ]
     },
     "execution_count": 9,
     "metadata": {},
     "output_type": "execute_result"
    }
   ],
   "source": [
    "test_labels.shape"
   ]
  },
  {
   "cell_type": "code",
   "execution_count": 10,
   "metadata": {},
   "outputs": [
    {
     "data": {
      "text/plain": [
       "10000"
      ]
     },
     "execution_count": 10,
     "metadata": {},
     "output_type": "execute_result"
    }
   ],
   "source": [
    "len(test_labels)"
   ]
  },
  {
   "cell_type": "code",
   "execution_count": 11,
   "metadata": {},
   "outputs": [
    {
     "name": "stdout",
     "output_type": "stream",
     "text": [
      "[7 2 1 ... 4 5 6]\n"
     ]
    }
   ],
   "source": [
    "print(test_labels)"
   ]
  },
  {
   "attachments": {},
   "cell_type": "markdown",
   "metadata": {},
   "source": [
    "The output (10000,) for ``test_labels.shape`` indicates that test_labels is a ``1-dimensional`` NumPy array with 10,000 elements.\n",
    "\n",
    "Since the MNIST test set contains 10,000 images, each image is associated with a single label. Therefore, the test_labels array contains the corresponding label for each image in the test set.\n",
    "\n",
    "The shape of the test_labels array is (10000,), which means that it has a length of 10,000. The lack of a second dimension in the shape indicates that test_labels is a 1D array. This is in contrast to the test_images array, which has a shape of (10000, 28, 28) indicating that it is a 3D array with 10,000 28x28 images.\n",
    "\n",
    "Overall, the (10000,) output indicates the shape of the test_labels array and confirms that it contains 10,000 labels for the test set."
   ]
  },
  {
   "cell_type": "code",
   "execution_count": 17,
   "metadata": {},
   "outputs": [],
   "source": [
    "from tensorflow import keras\n",
    "from tensorflow.keras import layers\n",
    "\n",
    "model = keras.Sequential([\n",
    "    layers.Dense(512, activation = 'relu'),     \n",
    "    layers.Dense(10, activation = 'softmax')])"
   ]
  },
  {
   "attachments": {},
   "cell_type": "markdown",
   "metadata": {},
   "source": [
    "Core building block of neural network is layer and our model consist of two dense layers (densly connected or fully connected)\n",
    "\n",
    "- By importing the `layers` module from TensorFlow Keras, you can access all of these layer types and more. For example, `layers.Dense` is used to define fully connected layers in a neural network, while `layers.Conv2D` is used to define convolutional layers.\n",
    "\n",
    "- When using `keras.Sequential`, you can add layers. Each layer in the sequence is connected to the previous layer, forming a chain of operations that process the input data, where the output of one layer is fed as input to the next layer in the sequence., and so on, until the final layer produces the output of the model. \n",
    "\n",
    "`layers.Dense(512, activation = 'relu')` defines the first dense layer in the model. The Dense layer is a fully connected layer where each neuron is connected to every neuron in the previous layer. The first argument 512 specifies the number of neurons in this layer. The activation argument specifies the activation function used by this layer, which in this case is the ReLU function. ReLU is a commonly used activation function that **returns the input if it is positive, and zero otherwise.**\n",
    "\n",
    "`layers.Dense(10, activation = 'softmax')` defines the second dense layer in the model. The second layer is also a fully connected layer with 10 neurons, but the activation function used in this layer is the Softmax function. Softmax is another commonly used activation function that converts the outputs of the previous layer into a probability distribution over the 10 possible classes in the MNIST dataset.\n",
    "\n",
    "- The two Dense layers are enclosed within square brackets [] and passed as a list to the Sequential model constructor. This specifies the order of layers in the neural network.\n",
    "\n"
   ]
  },
  {
   "attachments": {},
   "cell_type": "markdown",
   "metadata": {},
   "source": [
    "To make the model ready for training, we need to pick three more things as part of\n",
    "the compilation step:\n",
    "\n",
    "An optimizer\n",
    "- The mechanism through which the model will update itself based\n",
    "on the training data it sees, so as to improve its performance.\n",
    "\n",
    "A loss function\n",
    "- How the model will be able to measure its performance on the\n",
    "training data, and thus how it will be able to steer itself in the right direction.\n",
    "\n",
    "Metrics \n",
    "- To monitor during training and testing—Here, we’ll only care about accuracy (the fraction of the images that were correctly classified)."
   ]
  },
  {
   "cell_type": "code",
   "execution_count": 18,
   "metadata": {},
   "outputs": [],
   "source": [
    "model.compile(optimizer='rmsprop', \n",
    "loss = 'sparse_categorical_crossentropy', \n",
    "metrics = ['accuracy'])"
   ]
  },
  {
   "attachments": {},
   "cell_type": "markdown",
   "metadata": {},
   "source": [
    "The preprocessing step is important for preparing the data before feeding it into the neural network model. In this case, the data needs to be reshaped and scaled.\n",
    "\n",
    "First, the training images are reshaped from an array of shape `(60000, 28, 28)` to a `float32` array of shape `(60000, 28 * 28)`, which means each image is flattened into a `1D` array of length `784`. This is necessary because the Dense layer in the model expects the input to be a 1D array.\n",
    "\n",
    "Second, the pixel values of the training images are scaled from the original range of `[0, 255]` to the interval `[0, 1]`. This is important for numerical stability and to ensure that the optimization algorithm works effectively. The scaling is done by dividing each pixel value by `255`, which results in a new range of ``[0, 1]``."
   ]
  },
  {
   "cell_type": "code",
   "execution_count": 19,
   "metadata": {},
   "outputs": [],
   "source": [
    "train_images = train_images.reshape((60000, 28 * 28))\n",
    "train_images = train_images.astype(\"float32\") / 255\n",
    "test_images = test_images.reshape((10000, 28 * 28))\n",
    "test_images = test_images.astype(\"float32\") / 255"
   ]
  },
  {
   "cell_type": "code",
   "execution_count": 20,
   "metadata": {},
   "outputs": [
    {
     "name": "stdout",
     "output_type": "stream",
     "text": [
      "Epoch 1/5\n",
      "469/469 [==============================] - 5s 9ms/step - loss: 0.2652 - accuracy: 0.9235\n",
      "Epoch 2/5\n",
      "469/469 [==============================] - 4s 9ms/step - loss: 0.1073 - accuracy: 0.9682\n",
      "Epoch 3/5\n",
      "469/469 [==============================] - 4s 9ms/step - loss: 0.0703 - accuracy: 0.9788\n",
      "Epoch 4/5\n",
      "469/469 [==============================] - 4s 9ms/step - loss: 0.0507 - accuracy: 0.9843\n",
      "Epoch 5/5\n",
      "469/469 [==============================] - 4s 9ms/step - loss: 0.0381 - accuracy: 0.9886\n"
     ]
    },
    {
     "data": {
      "text/plain": [
       "<keras.callbacks.History at 0x1e432fa7220>"
      ]
     },
     "execution_count": 20,
     "metadata": {},
     "output_type": "execute_result"
    }
   ],
   "source": [
    "model.fit(train_images, train_labels, epochs=5, batch_size=128)"
   ]
  },
  {
   "attachments": {},
   "cell_type": "markdown",
   "metadata": {},
   "source": [
    "**Observations**\n",
    "\n",
    "This output shows the progress of training a neural network on the MNIST dataset for five epochs (passes through the entire training set).\n",
    "\n",
    "In each epoch, the network is trained on the training set, and its performance on both the training set and validation set is evaluated. The training process is divided into batches, and each batch consists of a subset of the training data. In this case, each batch contains 469 samples (images and labels) from the training set.\n",
    "\n",
    "For each epoch, the output shows the following:\n",
    "\n",
    "Epoch number: the current epoch being trained.\n",
    "- Number of batches: the total number of batches in the training set.\n",
    "- Time taken to complete the epoch: the time taken to train the network on the entire training set.\n",
    "- Training loss: the average loss (error) on the training set for this epoch.\n",
    "- Training accuracy: the fraction of correctly classified samples on the training set for this epoch.\n",
    "- The training loss and accuracy are measures of how well the network is fitting the training data. Ideally, we want the loss to decrease and the accuracy to increase as the training progresses. However, it is also possible to overfit the training data, meaning the network is too specialized to the training data and performs poorly on new, unseen data.\n",
    "\n",
    "we can see that the loss and accuracy are improving with each epoch, which is a good sign that the network is learning to classify the images correctly."
   ]
  },
  {
   "cell_type": "code",
   "execution_count": 21,
   "metadata": {},
   "outputs": [
    {
     "name": "stdout",
     "output_type": "stream",
     "text": [
      "1/1 [==============================] - 0s 253ms/step\n"
     ]
    },
    {
     "data": {
      "text/plain": [
       "array([2.2348040e-07, 7.3500854e-09, 3.9086581e-06, 1.7115715e-05,\n",
       "       6.6224463e-11, 1.6618484e-08, 3.2788908e-12, 9.9997699e-01,\n",
       "       7.0170636e-08, 1.6369813e-06], dtype=float32)"
      ]
     },
     "execution_count": 21,
     "metadata": {},
     "output_type": "execute_result"
    }
   ],
   "source": [
    "test_digits = test_images[0:10]\n",
    "predictions = model.predict(test_digits)\n",
    "\n",
    "predictions[0]"
   ]
  },
  {
   "cell_type": "code",
   "execution_count": 22,
   "metadata": {},
   "outputs": [
    {
     "data": {
      "text/plain": [
       "7"
      ]
     },
     "execution_count": 22,
     "metadata": {},
     "output_type": "execute_result"
    }
   ],
   "source": [
    "predictions[0].argmax()"
   ]
  },
  {
   "cell_type": "code",
   "execution_count": 23,
   "metadata": {},
   "outputs": [
    {
     "data": {
      "text/plain": [
       "0.999977"
      ]
     },
     "execution_count": 23,
     "metadata": {},
     "output_type": "execute_result"
    }
   ],
   "source": [
    "predictions[0][7]"
   ]
  },
  {
   "attachments": {},
   "cell_type": "markdown",
   "metadata": {},
   "source": [
    "The code then prints out the first set of predictions, accesses the predicted class with the highest probability using the `argmax()` method, and also accesses the probability for the 8th class `(indexed from 0)` using the index operator `[7]`."
   ]
  },
  {
   "attachments": {},
   "cell_type": "markdown",
   "metadata": {},
   "source": [
    "#### Evaluating the model on new data"
   ]
  },
  {
   "cell_type": "code",
   "execution_count": 24,
   "metadata": {},
   "outputs": [
    {
     "name": "stdout",
     "output_type": "stream",
     "text": [
      "313/313 [==============================] - 1s 3ms/step - loss: 0.0647 - accuracy: 0.9801\n",
      "test_acc: 0.9800999760627747\n"
     ]
    }
   ],
   "source": [
    "test_loss, test_acc = model.evaluate(test_images, test_labels)\n",
    "print(f\"test_acc: {test_acc}\")"
   ]
  },
  {
   "attachments": {},
   "cell_type": "markdown",
   "metadata": {},
   "source": [
    "**Test accuracy is 98.2 and training accuracy was 99.5, a bit lower than training accuracy is the example of model overfitting**"
   ]
  },
  {
   "attachments": {},
   "cell_type": "markdown",
   "metadata": {},
   "source": [
    "### Summary \n",
    "1. Load the dataset\n",
    "2. Split it into train and test\n",
    "3. Build network architecture (define model type, layers, activtion function etc)\n",
    "4. Compilation step (optimizer, loss, metrics)\n",
    "5. Preprocessing the data to feed the neural network (reshaping)\n",
    "6. Model fitting\n",
    "7. Predictions\n",
    "8. Evaluating the model onto the new data."
   ]
  },
  {
   "cell_type": "code",
   "execution_count": null,
   "metadata": {},
   "outputs": [],
   "source": []
  }
 ],
 "metadata": {
  "kernelspec": {
   "display_name": "global",
   "language": "python",
   "name": "python3"
  },
  "language_info": {
   "codemirror_mode": {
    "name": "ipython",
    "version": 3
   },
   "file_extension": ".py",
   "mimetype": "text/x-python",
   "name": "python",
   "nbconvert_exporter": "python",
   "pygments_lexer": "ipython3",
   "version": "3.10.9"
  },
  "orig_nbformat": 4
 },
 "nbformat": 4,
 "nbformat_minor": 2
}
