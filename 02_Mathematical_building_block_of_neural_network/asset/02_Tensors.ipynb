{
 "cells": [
  {
   "attachments": {},
   "cell_type": "markdown",
   "metadata": {},
   "source": [
    "## Tensors\n",
    "- A tensor is a fundamental **data structure** used in deep learning and other fields of machine learning. It is essentially a container for **numerical** data, which can be organized into one or more **dimensions or axes**.\n",
    "\n",
    "- In the context of deep learning, tensors are used to represent data, such as images, sound recordings, and text, which can be processed and analyzed by machine learning algorithms. Tensors are used because they allow for efficient manipulation and processing of large amounts of numerical data.\n",
    "\n",
    "(Importnat Line ==>)\n",
    "- *Matrices are a specific type of tensor that has **two dimensions**, commonly used in linear algebra. In contrast, tensors can have an **arbitrary number of dimensions**. For example, a grayscale image can be represented as a **rank-2 tensor** (which we recently saw), with dimensions of width and height. A color image can be represented as a **rank-3 tensor**, with dimensions of width, height, and color channels.*\n",
    "\n",
    "- In summary, tensors are containers for numerical data that can be organized into one or more dimensions or axes. Matrices are a specific type of tensor with two dimensions, while tensors can have an arbitrary number of dimensions. In the context of deep learning, tensors are used to represent and process large amounts of numerical data efficiently.\n",
    "\n",
    "![](https://i.pinimg.com/736x/57/cd/cb/57cdcbe32742764db5b578cfdb65635d.jpg)"
   ]
  },
  {
   "attachments": {},
   "cell_type": "markdown",
   "metadata": {},
   "source": [
    "## Scaler (Rank-0 Tensor)\n",
    "A tensor that contains only one number is called a scalar (or scalar tensor, or rank-0 tensor, or 0D tensor). Scalars can be represented as NumPy arrays with zero dimensions, which means that the shape of the array is an empty tuple (), *(ndim == 0)*.  In NumPy, a float32 or float64 number is a scalar tensor (or scalar array). <br>\n",
    "The number of axes of a tensor is also called its rank."
   ]
  },
  {
   "cell_type": "code",
   "execution_count": 3,
   "metadata": {},
   "outputs": [
    {
     "name": "stdout",
     "output_type": "stream",
     "text": [
      "Dimension =   0 , Shape (rows and columns) =  ()\n"
     ]
    }
   ],
   "source": [
    "import numpy as np\n",
    "\n",
    "\n",
    "scalar_tensor = np.array(3.14)\n",
    "\n",
    "print(\"Dimension =  \", scalar_tensor.ndim, \", Shape (rows and columns) = \", scalar_tensor.shape)  "
   ]
  },
  {
   "attachments": {},
   "cell_type": "markdown",
   "metadata": {},
   "source": [
    "## Vector (Rank-1 Tensor)\n",
    "One-dimensional array of numbers also known as a Vector (rank-1 tensor, 1d tensor). It contain only one axis."
   ]
  },
  {
   "cell_type": "code",
   "execution_count": 15,
   "metadata": {},
   "outputs": [
    {
     "name": "stdout",
     "output_type": "stream",
     "text": [
      "Dimension =   1 , Shape (rows and columns) =  (5,)\n"
     ]
    }
   ],
   "source": [
    "v = np.array([1, 2, 3, 4, 5])\n",
    "\n",
    "print(\"Dimension =  \", v.ndim, \", Shape (rows and columns) = \", v.shape)  "
   ]
  },
  {
   "attachments": {},
   "cell_type": "markdown",
   "metadata": {},
   "source": [
    "We create a vector with three elements using the ``np.array function``. The shape of the vector is`(5,)`, which indicates that it has **one dimension with five elements**. It generally called *5-Dimensional vector* (a vector with five entries) <br><br>\n",
    "#### Note: \n",
    "This vector has five entries and so is called a 5-dimensional vector. Don’t confuse a 5D vector with a 5D tensor.\n",
    "A 5D vector has only one axis and has five dimensions along its axis, whereas a 5D tensor has five axes (and may have any number of dimensions along each axis). Dimensionality can denote either the number of entries along a specific axis (as in the case of our 5D vector) or the number of axes in a tensor (such as a 5D tensor), which can be confusing at times. In the latter case, it’s technically more correct to talk about a tensor of rank 5 (the rank of a tensor being the number of axes),but the ambiguous notation 5D tensor is common regardless. \n",
    "*Number of axis and rank is same*"
   ]
  },
  {
   "attachments": {},
   "cell_type": "markdown",
   "metadata": {},
   "source": [
    "## Matrics (rank-2 tensor)\n",
    "- An array of vectors is a matrix, or rank-2 tensor, or 2D tensor. \n",
    "- A matrix has two axes (often referred to as rows and columns). "
   ]
  },
  {
   "cell_type": "code",
   "execution_count": 18,
   "metadata": {},
   "outputs": [
    {
     "data": {
      "text/plain": [
       "2"
      ]
     },
     "execution_count": 18,
     "metadata": {},
     "output_type": "execute_result"
    }
   ],
   "source": [
    "x = np.array([[5, 78, 2, 34, 0],\n",
    "                [6, 79, 3, 35, 1],\n",
    "                    [7, 80, 4, 36, 2]])\n",
    "x.ndim\n",
    "\n",
    "#ouptput >> 2"
   ]
  },
  {
   "attachments": {},
   "cell_type": "markdown",
   "metadata": {},
   "source": [
    "- `5, 6, 7` is called first column\n",
    "- `6, 78, 2, 34, 0` is called first row\n"
   ]
  },
  {
   "attachments": {},
   "cell_type": "markdown",
   "metadata": {},
   "source": [
    "## Rank-3 and higher-rank tensors\n",
    "when you pack the rank-2 tensors in a new array, you get the rank-3 tensor. "
   ]
  },
  {
   "cell_type": "code",
   "execution_count": 19,
   "metadata": {},
   "outputs": [
    {
     "data": {
      "text/plain": [
       "3"
      ]
     },
     "execution_count": 19,
     "metadata": {},
     "output_type": "execute_result"
    }
   ],
   "source": [
    "x = np.array([\n",
    "                [[5, 78, 2, 34, 0],\n",
    "                [6, 79, 3, 35, 1],\n",
    "                [7, 80, 4, 36, 2]], \n",
    "                    \n",
    "                [[5, 78, 2, 34, 0],\n",
    "                [6, 79, 3, 35, 1],\n",
    "                [7, 80, 4, 36, 2]],   \n",
    "                \n",
    "                [[5, 78, 2, 34, 0],\n",
    "                [6, 79, 3, 35, 1],\n",
    "                [7, 80, 4, 36, 2]]\n",
    "                    \n",
    "                    \n",
    "                    ])\n",
    "x.ndim "
   ]
  },
  {
   "attachments": {},
   "cell_type": "markdown",
   "metadata": {},
   "source": [
    "You can create rank-4 tensor by packing the rank-3 tensor, so and so. "
   ]
  },
  {
   "attachments": {},
   "cell_type": "markdown",
   "metadata": {},
   "source": [
    "___"
   ]
  },
  {
   "attachments": {},
   "cell_type": "markdown",
   "metadata": {},
   "source": [
    "## Manipulating tensors in Numpy\n",
    "Manipulating tensors refers to performing operations on the tensors to modify their shape, size, and contents. Tensors can be manipulated using various mathematical and logical operations, such as addition, subtraction, multiplication, division, reshaping, slicing, concatenation, and transposition."
   ]
  },
  {
   "cell_type": "code",
   "execution_count": 20,
   "metadata": {},
   "outputs": [],
   "source": [
    "from tensorflow.keras.datasets import mnist\n",
    "(train_images, train_labels), (test_images, test_labels) = mnist.load_data()"
   ]
  },
  {
   "cell_type": "code",
   "execution_count": 23,
   "metadata": {},
   "outputs": [
    {
     "data": {
      "text/plain": [
       "(90, 28, 28)"
      ]
     },
     "execution_count": 23,
     "metadata": {},
     "output_type": "execute_result"
    }
   ],
   "source": [
    "# select digits from 10 to 100 and put them into array  90, 28,28\n",
    "my_slice = train_images[10:100]\n",
    "my_slice.shape"
   ]
  },
  {
   "cell_type": "code",
   "execution_count": 24,
   "metadata": {},
   "outputs": [
    {
     "data": {
      "text/plain": [
       "(90, 28, 28)"
      ]
     },
     "execution_count": 24,
     "metadata": {},
     "output_type": "execute_result"
    }
   ],
   "source": [
    "my_slice = train_images[10:100, :, :]\n",
    "my_slice.shape"
   ]
  },
  {
   "cell_type": "code",
   "execution_count": 27,
   "metadata": {},
   "outputs": [
    {
     "data": {
      "text/plain": [
       "(90, 28, 28)"
      ]
     },
     "execution_count": 27,
     "metadata": {},
     "output_type": "execute_result"
    }
   ],
   "source": [
    "my_slice = train_images[10:100, 0:28, 0:28]\n",
    "my_slice.shape"
   ]
  },
  {
   "attachments": {},
   "cell_type": "markdown",
   "metadata": {},
   "source": [
    "These are different ways of selecting the digits in the array. You can also select negative indexes as well.\n",
    "\n",
    "[For more read this article](https://www.tensorflow.org/guide/tensor)"
   ]
  },
  {
   "attachments": {},
   "cell_type": "markdown",
   "metadata": {},
   "source": [
    "___"
   ]
  }
 ],
 "metadata": {
  "kernelspec": {
   "display_name": "global",
   "language": "python",
   "name": "python3"
  },
  "language_info": {
   "codemirror_mode": {
    "name": "ipython",
    "version": 3
   },
   "file_extension": ".py",
   "mimetype": "text/x-python",
   "name": "python",
   "nbconvert_exporter": "python",
   "pygments_lexer": "ipython3",
   "version": "3.10.9"
  },
  "orig_nbformat": 4
 },
 "nbformat": 4,
 "nbformat_minor": 2
}
