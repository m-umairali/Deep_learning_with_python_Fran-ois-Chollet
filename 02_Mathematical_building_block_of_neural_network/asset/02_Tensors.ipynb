{
 "cells": [
  {
   "attachments": {},
   "cell_type": "markdown",
   "metadata": {},
   "source": [
    "## Tensors\n",
    "- A tensor is a fundamental **data structure** used in deep learning and other fields of machine learning. It is essentially a container for **numerical** data, which can be organized into one or more **dimensions or axes**.\n",
    "\n",
    "- In the context of deep learning, tensors are used to represent data, such as images, sound recordings, and text, which can be processed and analyzed by machine learning algorithms. Tensors are used because they allow for efficient manipulation and processing of large amounts of numerical data.\n",
    "\n",
    "(Importnat Line ==>)\n",
    "- *Matrices are a specific type of tensor that has **two dimensions**, commonly used in linear algebra. In contrast, tensors can have an **arbitrary number of dimensions**. For example, a grayscale image can be represented as a **rank-2 tensor** (which we recently saw), with dimensions of width and height. A color image can be represented as a **rank-3 tensor**, with dimensions of width, height, and color channels.*\n",
    "\n",
    "- In summary, tensors are containers for numerical data that can be organized into one or more dimensions or axes. Matrices are a specific type of tensor with two dimensions, while tensors can have an arbitrary number of dimensions. In the context of deep learning, tensors are used to represent and process large amounts of numerical data efficiently.\n",
    "\n",
    "![](https://i.pinimg.com/736x/57/cd/cb/57cdcbe32742764db5b578cfdb65635d.jpg =100x20)"
   ]
  },
  {
   "attachments": {},
   "cell_type": "markdown",
   "metadata": {},
   "source": [
    "## Scaler (Rank-0 Tensor)\n",
    "A tensor that contains only one number is called a scalar (or scalar tensor, or rank-0 tensor, or 0D tensor). Scalars can be represented as NumPy arrays with zero dimensions, which means that the shape of the array is an empty tuple (), *(ndim == 0)*.  In NumPy, a float32 or float64 number is a scalar tensor (or scalar array). <br>\n",
    "The number of axes of a tensor is also called its rank."
   ]
  },
  {
   "cell_type": "code",
   "execution_count": 3,
   "metadata": {},
   "outputs": [
    {
     "name": "stdout",
     "output_type": "stream",
     "text": [
      "Dimension =   0 , Shape (rows and columns) =  ()\n"
     ]
    }
   ],
   "source": [
    "import numpy as np\n",
    "\n",
    "\n",
    "scalar_tensor = np.array(3.14)\n",
    "\n",
    "print(\"Dimension =  \", scalar_tensor.ndim, \", Shape (rows and columns) = \", scalar_tensor.shape)  "
   ]
  },
  {
   "attachments": {},
   "cell_type": "markdown",
   "metadata": {},
   "source": [
    "## Vector (Rank-1 Tensor)\n",
    "One-dimensional array of numbers also known as a Vector (rank-1 tensor, 1d tensor). It contain only one axis."
   ]
  },
  {
   "cell_type": "code",
   "execution_count": 9,
   "metadata": {},
   "outputs": [
    {
     "name": "stdout",
     "output_type": "stream",
     "text": [
      "Dimension =   1 , Shape (rows and columns) =  (3,)\n"
     ]
    }
   ],
   "source": [
    "v = np.array([1, 2, 3])\n",
    "\n",
    "print(\"Dimension =  \", v.ndim, \", Shape (rows and columns) = \", v.shape)  "
   ]
  },
  {
   "attachments": {},
   "cell_type": "markdown",
   "metadata": {},
   "source": [
    "We create a vector with three elements using the ``np.array function``. The shape of the vector is`(3,)`, which indicates that it has **one dimension with three elements**. It generally called *3-Dimensional vector* (a vector with three entries) <br><br>\n",
    "#### Note: \n",
    "Don’t confuse a 3D vector with a 3D tensor! A 3D vector has only one axis and has three dimensions(entries) along\n",
    "its axis, whereas a 3D tensor has Three axes (and may have any number of dimensions along each axis). "
   ]
  },
  {
   "attachments": {},
   "cell_type": "markdown",
   "metadata": {},
   "source": [
    "#### Quick question: is dimension and axis same?\n",
    "\n",
    "The terms \"dimension\" and \"axis\" are often used interchangeably in the context of arrays and tensors. However, a **dimension refers to the size of a specific axis**, while an **axis refers to a specific direction along which the elements** are arranged. In NumPy, `shape` gives the sizes of all dimensions, while `ndim` gives the number of axis.\n",
    "\n",
    "#### Google: \n",
    "What is the difference between rank, dimensions and axis?\n",
    "\n",
    "**Rank**: It's the number of dimensions of a tensor. For example, a scalar has a rank of 0, a vector has a rank of 1, a matrix has a rank of 2, and so on.\n",
    "\n",
    "**Axis**: An axis is a specific direction along which the elements of a tensor are arranged. In a 2D tensor (matrix), the first axis is the row axis, and the second axis is the column axis. In a 3D tensor, the first axis is often the batch axis, the second axis is the row axis, and the third axis is the column axis.\n",
    "\n",
    "**Dimension**: It's the size of a specific axis. For example, a matrix with shape (3, 4) has a dimension of 3 along its first axis (rows) and a dimension of 4 along its second axis (columns).\n",
    "\n",
    "In TensorFlow, you can use these terms to manipulate tensors. For example, you can use the rank attribute to get the number of dimensions of a tensor, the axis argument to specify along which axis to perform an operation, and the shape attribute to get the size of each dimension of a tensor."
   ]
  },
  {
   "cell_type": "code",
   "execution_count": 14,
   "metadata": {},
   "outputs": [
    {
     "name": "stdout",
     "output_type": "stream",
     "text": [
      "Rank: 2\n",
      "Shape: (2, 3)\n",
      "Rows: 2\n",
      "Columns: 3\n"
     ]
    }
   ],
   "source": [
    "import tensorflow as tf\n",
    "\n",
    "# Create a 2D tensor with shape (2, 3)\n",
    "tensor = tf.constant([[1, 2, 3], [4, 5, 6]])\n",
    "\n",
    "# Get the rank of the tensor (number of dimensions)\n",
    "print(\"Rank:\", tf.rank(tensor).numpy())  # Output: 2\n",
    "\n",
    "# Get the size of each dimension\n",
    "print(\"Shape:\", tensor.shape)  # Output: (2, 3)\n",
    "\n",
    "# Get the size of the first dimension (number of rows)\n",
    "print(\"Rows:\", tensor.shape[0])  # Output: 2\n",
    "\n",
    "# Get the size of the second dimension (number of columns)\n",
    "print(\"Columns:\", tensor.shape[1])  # Output: 3"
   ]
  },
  {
   "attachments": {},
   "cell_type": "markdown",
   "metadata": {},
   "source": [
    "- `tf.rank` to get the rank (number of dimensions) of the tensor, which is 2.\n",
    "- `tensor.shape` to get the shape of the tensor, which is (2, 3).\n",
    "- `tensor.shape[0]` to get the size of the first dimension (number of rows), which is 2.\n",
    "- `tensor.shape[1]` to get the size of the second dimension (number of columns), which is 3"
   ]
  },
  {
   "cell_type": "code",
   "execution_count": null,
   "metadata": {},
   "outputs": [],
   "source": []
  }
 ],
 "metadata": {
  "kernelspec": {
   "display_name": "global",
   "language": "python",
   "name": "python3"
  },
  "language_info": {
   "codemirror_mode": {
    "name": "ipython",
    "version": 3
   },
   "file_extension": ".py",
   "mimetype": "text/x-python",
   "name": "python",
   "nbconvert_exporter": "python",
   "pygments_lexer": "ipython3",
   "version": "3.10.9"
  },
  "orig_nbformat": 4
 },
 "nbformat": 4,
 "nbformat_minor": 2
}
