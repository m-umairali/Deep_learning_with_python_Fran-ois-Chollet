{
 "cells": [
  {
   "attachments": {},
   "cell_type": "markdown",
   "metadata": {},
   "source": [
    "## Setting up deep learning workspace\n",
    "Before you can get started developing deep learning applications, you need to set up your development environment either on CPU or GPU. \n",
    "\n",
    "\n",
    "1. To do deep learning on a GPU, you have three options:\n",
    "    1. Buy and install a physical NVIDIA GPU on your workstation.\n",
    "    2. Use GPU instances on Google Cloud or AWS EC2.\n",
    "    3. Use the free GPU runtime from Colaboratory, a hosted notebook service offered by Google\n",
    "\n",
    "2. Here are the steps to install TensorFlow and Keras on Jupyter Notebook on your system:\n",
    "    1. Install Anaconda or Miniconda\n",
    "    2. Create a new conda environment by using `conda create --name myenv`, replace myenv with your choiced name\n",
    "    3. `conda activate myenv`\n",
    "    4. `conda install tensorflow`\n",
    "    5. Launch `jupyter notebook`\n",
    "    6. verify it by using `import tensorflow as tf`\n",
    "\n",
    "\n",
    "\n"
   ]
  }
 ],
 "metadata": {
  "language_info": {
   "name": "python"
  },
  "orig_nbformat": 4
 },
 "nbformat": 4,
 "nbformat_minor": 2
}
